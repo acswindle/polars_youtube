{
 "cells": [
  {
   "cell_type": "code",
   "execution_count": 1,
   "metadata": {},
   "outputs": [],
   "source": [
    "import polars as pl\n",
    "import sqlite3"
   ]
  },
  {
   "cell_type": "markdown",
   "metadata": {},
   "source": [
    "## Indexing Example"
   ]
  },
  {
   "cell_type": "code",
   "execution_count": 11,
   "metadata": {},
   "outputs": [
    {
     "data": {
      "text/html": [
       "<div><style>\n",
       ".dataframe > thead > tr,\n",
       ".dataframe > tbody > tr {\n",
       "  text-align: right;\n",
       "  white-space: pre-wrap;\n",
       "}\n",
       "</style>\n",
       "<small>shape: (5, 9)</small><table border=\"1\" class=\"dataframe\"><thead><tr><th>InvoiceId</th><th>CustomerId</th><th>InvoiceDate</th><th>BillingAddress</th><th>BillingCity</th><th>BillingState</th><th>BillingCountry</th><th>BillingPostalCode</th><th>Total</th></tr><tr><td>i64</td><td>i64</td><td>str</td><td>str</td><td>str</td><td>str</td><td>str</td><td>str</td><td>f64</td></tr></thead><tbody><tr><td>1</td><td>2</td><td>&quot;2009-01-01 00:00:00&quot;</td><td>&quot;Theodor-Heuss-Straße 34&quot;</td><td>&quot;Stuttgart&quot;</td><td>null</td><td>&quot;Germany&quot;</td><td>&quot;70174&quot;</td><td>1.98</td></tr><tr><td>2</td><td>4</td><td>&quot;2009-01-02 00:00:00&quot;</td><td>&quot;Ullevålsveien 14&quot;</td><td>&quot;Oslo&quot;</td><td>null</td><td>&quot;Norway&quot;</td><td>&quot;0171&quot;</td><td>3.96</td></tr><tr><td>3</td><td>8</td><td>&quot;2009-01-03 00:00:00&quot;</td><td>&quot;Grétrystraat 63&quot;</td><td>&quot;Brussels&quot;</td><td>null</td><td>&quot;Belgium&quot;</td><td>&quot;1000&quot;</td><td>5.94</td></tr><tr><td>4</td><td>14</td><td>&quot;2009-01-06 00:00:00&quot;</td><td>&quot;8210 111 ST NW&quot;</td><td>&quot;Edmonton&quot;</td><td>&quot;AB&quot;</td><td>&quot;Canada&quot;</td><td>&quot;T6G 2C7&quot;</td><td>8.91</td></tr><tr><td>5</td><td>23</td><td>&quot;2009-01-11 00:00:00&quot;</td><td>&quot;69 Salem Street&quot;</td><td>&quot;Boston&quot;</td><td>&quot;MA&quot;</td><td>&quot;USA&quot;</td><td>&quot;2113&quot;</td><td>13.86</td></tr></tbody></table></div>"
      ],
      "text/plain": [
       "shape: (5, 9)\n",
       "┌───────────┬────────────┬────────────┬────────────┬───┬───────────┬───────────┬───────────┬───────┐\n",
       "│ InvoiceId ┆ CustomerId ┆ InvoiceDat ┆ BillingAdd ┆ … ┆ BillingSt ┆ BillingCo ┆ BillingPo ┆ Total │\n",
       "│ ---       ┆ ---        ┆ e          ┆ ress       ┆   ┆ ate       ┆ untry     ┆ stalCode  ┆ ---   │\n",
       "│ i64       ┆ i64        ┆ ---        ┆ ---        ┆   ┆ ---       ┆ ---       ┆ ---       ┆ f64   │\n",
       "│           ┆            ┆ str        ┆ str        ┆   ┆ str       ┆ str       ┆ str       ┆       │\n",
       "╞═══════════╪════════════╪════════════╪════════════╪═══╪═══════════╪═══════════╪═══════════╪═══════╡\n",
       "│ 1         ┆ 2          ┆ 2009-01-01 ┆ Theodor-He ┆ … ┆ null      ┆ Germany   ┆ 70174     ┆ 1.98  │\n",
       "│           ┆            ┆ 00:00:00   ┆ uss-Straße ┆   ┆           ┆           ┆           ┆       │\n",
       "│           ┆            ┆            ┆ 34         ┆   ┆           ┆           ┆           ┆       │\n",
       "│ 2         ┆ 4          ┆ 2009-01-02 ┆ Ullevålsve ┆ … ┆ null      ┆ Norway    ┆ 0171      ┆ 3.96  │\n",
       "│           ┆            ┆ 00:00:00   ┆ ien 14     ┆   ┆           ┆           ┆           ┆       │\n",
       "│ 3         ┆ 8          ┆ 2009-01-03 ┆ Grétrystra ┆ … ┆ null      ┆ Belgium   ┆ 1000      ┆ 5.94  │\n",
       "│           ┆            ┆ 00:00:00   ┆ at 63      ┆   ┆           ┆           ┆           ┆       │\n",
       "│ 4         ┆ 14         ┆ 2009-01-06 ┆ 8210 111   ┆ … ┆ AB        ┆ Canada    ┆ T6G 2C7   ┆ 8.91  │\n",
       "│           ┆            ┆ 00:00:00   ┆ ST NW      ┆   ┆           ┆           ┆           ┆       │\n",
       "│ 5         ┆ 23         ┆ 2009-01-11 ┆ 69 Salem   ┆ … ┆ MA        ┆ USA       ┆ 2113      ┆ 13.86 │\n",
       "│           ┆            ┆ 00:00:00   ┆ Street     ┆   ┆           ┆           ┆           ┆       │\n",
       "└───────────┴────────────┴────────────┴────────────┴───┴───────────┴───────────┴───────────┴───────┘"
      ]
     },
     "execution_count": 11,
     "metadata": {},
     "output_type": "execute_result"
    }
   ],
   "source": [
    "conn = sqlite3.connect('chinook.db')\n",
    "df = pl.read_database('SELECT * FROM invoices',\n",
    "                      conn)\n",
    "df.head()"
   ]
  },
  {
   "cell_type": "code",
   "execution_count": 14,
   "metadata": {},
   "outputs": [
    {
     "data": {
      "text/html": [
       "<div><style>\n",
       ".dataframe > thead > tr,\n",
       ".dataframe > tbody > tr {\n",
       "  text-align: right;\n",
       "  white-space: pre-wrap;\n",
       "}\n",
       "</style>\n",
       "<small>shape: (24, 4)</small><table border=\"1\" class=\"dataframe\"><thead><tr><th>BillingCountry</th><th>Number_Transactions</th><th>Total_Revenue</th><th>Avg_Transaction_Amt</th></tr><tr><td>str</td><td>u32</td><td>f64</td><td>f64</td></tr></thead><tbody><tr><td>&quot;USA&quot;</td><td>91</td><td>523.06</td><td>5.747912</td></tr><tr><td>&quot;Canada&quot;</td><td>56</td><td>303.96</td><td>5.427857</td></tr><tr><td>&quot;France&quot;</td><td>35</td><td>195.1</td><td>5.574286</td></tr><tr><td>&quot;Brazil&quot;</td><td>35</td><td>190.1</td><td>5.431429</td></tr><tr><td>&quot;Germany&quot;</td><td>28</td><td>156.48</td><td>5.588571</td></tr><tr><td>&hellip;</td><td>&hellip;</td><td>&hellip;</td><td>&hellip;</td></tr><tr><td>&quot;Denmark&quot;</td><td>7</td><td>37.62</td><td>5.374286</td></tr><tr><td>&quot;Italy&quot;</td><td>7</td><td>37.62</td><td>5.374286</td></tr><tr><td>&quot;Australia&quot;</td><td>7</td><td>37.62</td><td>5.374286</td></tr><tr><td>&quot;Spain&quot;</td><td>7</td><td>37.62</td><td>5.374286</td></tr><tr><td>&quot;Belgium&quot;</td><td>7</td><td>37.62</td><td>5.374286</td></tr></tbody></table></div>"
      ],
      "text/plain": [
       "shape: (24, 4)\n",
       "┌────────────────┬─────────────────────┬───────────────┬─────────────────────┐\n",
       "│ BillingCountry ┆ Number_Transactions ┆ Total_Revenue ┆ Avg_Transaction_Amt │\n",
       "│ ---            ┆ ---                 ┆ ---           ┆ ---                 │\n",
       "│ str            ┆ u32                 ┆ f64           ┆ f64                 │\n",
       "╞════════════════╪═════════════════════╪═══════════════╪═════════════════════╡\n",
       "│ USA            ┆ 91                  ┆ 523.06        ┆ 5.747912            │\n",
       "│ Canada         ┆ 56                  ┆ 303.96        ┆ 5.427857            │\n",
       "│ France         ┆ 35                  ┆ 195.1         ┆ 5.574286            │\n",
       "│ Brazil         ┆ 35                  ┆ 190.1         ┆ 5.431429            │\n",
       "│ Germany        ┆ 28                  ┆ 156.48        ┆ 5.588571            │\n",
       "│ …              ┆ …                   ┆ …             ┆ …                   │\n",
       "│ Denmark        ┆ 7                   ┆ 37.62         ┆ 5.374286            │\n",
       "│ Italy          ┆ 7                   ┆ 37.62         ┆ 5.374286            │\n",
       "│ Australia      ┆ 7                   ┆ 37.62         ┆ 5.374286            │\n",
       "│ Spain          ┆ 7                   ┆ 37.62         ┆ 5.374286            │\n",
       "│ Belgium        ┆ 7                   ┆ 37.62         ┆ 5.374286            │\n",
       "└────────────────┴─────────────────────┴───────────────┴─────────────────────┘"
      ]
     },
     "execution_count": 14,
     "metadata": {},
     "output_type": "execute_result"
    }
   ],
   "source": [
    "(\n",
    "    df\n",
    "    .group_by('BillingCountry')\n",
    "    .agg(\n",
    "        pl.len().alias('Number_Transactions'),\n",
    "        pl.col('Total').sum().alias('Total_Revenue'),\n",
    "        pl.col('Total').mean().alias('Avg_Transaction_Amt'),\n",
    "    )\n",
    "    .sort('Total_Revenue',descending=True)\n",
    ")"
   ]
  },
  {
   "cell_type": "markdown",
   "metadata": {},
   "source": [
    "## Declarative Example"
   ]
  },
  {
   "cell_type": "code",
   "execution_count": 7,
   "metadata": {},
   "outputs": [
    {
     "data": {
      "text/plain": [
       "Schema([('EmployeeId', Int64),\n",
       "        ('LastName', String),\n",
       "        ('FirstName', String),\n",
       "        ('Title', String),\n",
       "        ('ReportsTo', Int64),\n",
       "        ('BirthDate', String),\n",
       "        ('HireDate', String),\n",
       "        ('Address', String),\n",
       "        ('City', String),\n",
       "        ('State', String),\n",
       "        ('Country', String),\n",
       "        ('PostalCode', String),\n",
       "        ('Phone', String),\n",
       "        ('Fax', String),\n",
       "        ('Email', String)])"
      ]
     },
     "execution_count": 7,
     "metadata": {},
     "output_type": "execute_result"
    }
   ],
   "source": [
    "df = pl.read_database('SELECT * FROM Employees',conn)\n",
    "df.schema"
   ]
  },
  {
   "cell_type": "code",
   "execution_count": 10,
   "metadata": {},
   "outputs": [
    {
     "data": {
      "text/html": [
       "<div><style>\n",
       ".dataframe > thead > tr,\n",
       ".dataframe > tbody > tr {\n",
       "  text-align: right;\n",
       "  white-space: pre-wrap;\n",
       "}\n",
       "</style>\n",
       "<small>shape: (4, 2)</small><table border=\"1\" class=\"dataframe\"><thead><tr><th>Full_Name</th><th>Title</th></tr><tr><td>str</td><td>str</td></tr></thead><tbody><tr><td>&quot;Nancy Edwards&quot;</td><td>&quot;Sales Manager&quot;</td></tr><tr><td>&quot;Jane Peacock&quot;</td><td>&quot;Sales Support Agent&quot;</td></tr><tr><td>&quot;Margaret Park&quot;</td><td>&quot;Sales Support Agent&quot;</td></tr><tr><td>&quot;Steve Johnson&quot;</td><td>&quot;Sales Support Agent&quot;</td></tr></tbody></table></div>"
      ],
      "text/plain": [
       "shape: (4, 2)\n",
       "┌───────────────┬─────────────────────┐\n",
       "│ Full_Name     ┆ Title               │\n",
       "│ ---           ┆ ---                 │\n",
       "│ str           ┆ str                 │\n",
       "╞═══════════════╪═════════════════════╡\n",
       "│ Nancy Edwards ┆ Sales Manager       │\n",
       "│ Jane Peacock  ┆ Sales Support Agent │\n",
       "│ Margaret Park ┆ Sales Support Agent │\n",
       "│ Steve Johnson ┆ Sales Support Agent │\n",
       "└───────────────┴─────────────────────┘"
      ]
     },
     "execution_count": 10,
     "metadata": {},
     "output_type": "execute_result"
    }
   ],
   "source": [
    "(\n",
    "    df\n",
    "    .filter(pl.col('Title').str.contains('Sales'))\n",
    "    .select(\n",
    "        (pl.col('FirstName') + ' ' + pl.col('LastName')).alias('Full_Name'),\n",
    "        'Title'\n",
    "    )\n",
    ")"
   ]
  },
  {
   "cell_type": "markdown",
   "metadata": {},
   "source": [
    "## Speed Test\n",
    "Polars can run in parrallel on all cpu cores, speeding things up compared to pandas"
   ]
  },
  {
   "cell_type": "code",
   "execution_count": 4,
   "metadata": {},
   "outputs": [
    {
     "data": {
      "text/html": [
       "<div><style>\n",
       ".dataframe > thead > tr,\n",
       ".dataframe > tbody > tr {\n",
       "  text-align: right;\n",
       "  white-space: pre-wrap;\n",
       "}\n",
       "</style>\n",
       "<small>shape: (3, 2)</small><table border=\"1\" class=\"dataframe\"><thead><tr><th>label</th><th>AVG</th></tr><tr><td>str</td><td>f64</td></tr></thead><tbody><tr><td>&quot;B&quot;</td><td>-0.000198</td></tr><tr><td>&quot;C&quot;</td><td>-0.000318</td></tr><tr><td>&quot;A&quot;</td><td>0.000044</td></tr></tbody></table></div>"
      ],
      "text/plain": [
       "shape: (3, 2)\n",
       "┌───────┬───────────┐\n",
       "│ label ┆ AVG       │\n",
       "│ ---   ┆ ---       │\n",
       "│ str   ┆ f64       │\n",
       "╞═══════╪═══════════╡\n",
       "│ B     ┆ -0.000198 │\n",
       "│ C     ┆ -0.000318 │\n",
       "│ A     ┆ 0.000044  │\n",
       "└───────┴───────────┘"
      ]
     },
     "execution_count": 4,
     "metadata": {},
     "output_type": "execute_result"
    }
   ],
   "source": [
    "(\n",
    "    pl.scan_csv('./big_file_test.csv')\n",
    "    .group_by('label')\n",
    "    .agg(\n",
    "        pl.col('data').mean().alias('AVG'),\n",
    "    )\n",
    "    .collect()\n",
    ")"
   ]
  },
  {
   "cell_type": "markdown",
   "metadata": {},
   "source": [
    "## Query Optimizer"
   ]
  },
  {
   "cell_type": "code",
   "execution_count": null,
   "metadata": {},
   "outputs": [
    {
     "data": {
      "text/html": [
       "<div><style>\n",
       ".dataframe > thead > tr,\n",
       ".dataframe > tbody > tr {\n",
       "  text-align: right;\n",
       "  white-space: pre-wrap;\n",
       "}\n",
       "</style>\n",
       "<small>shape: (3, 2)</small><table border=\"1\" class=\"dataframe\"><thead><tr><th>label</th><th>AVG</th></tr><tr><td>str</td><td>f64</td></tr></thead><tbody><tr><td>&quot;B&quot;</td><td>-0.000198</td></tr><tr><td>&quot;C&quot;</td><td>-0.000318</td></tr><tr><td>&quot;A&quot;</td><td>0.000044</td></tr></tbody></table></div>"
      ],
      "text/plain": [
       "shape: (3, 2)\n",
       "┌───────┬───────────┐\n",
       "│ label ┆ AVG       │\n",
       "│ ---   ┆ ---       │\n",
       "│ str   ┆ f64       │\n",
       "╞═══════╪═══════════╡\n",
       "│ B     ┆ -0.000198 │\n",
       "│ C     ┆ -0.000318 │\n",
       "│ A     ┆ 0.000044  │\n",
       "└───────┴───────────┘"
      ]
     },
     "metadata": {},
     "output_type": "display_data"
    }
   ],
   "source": [
    "(\n",
    "    pl.scan_csv('./big_file_test.csv')\n",
    "    .head(1000)\n",
    "    .group_by('label')\n",
    "    .agg(\n",
    "        pl.col('data').mean().alias('AVG'),\n",
    "    )\n",
    "    .collect()\n",
    ")"
   ]
  }
 ],
 "metadata": {
  "kernelspec": {
   "display_name": "polars_venv",
   "language": "python",
   "name": "python3"
  },
  "language_info": {
   "codemirror_mode": {
    "name": "ipython",
    "version": 3
   },
   "file_extension": ".py",
   "mimetype": "text/x-python",
   "name": "python",
   "nbconvert_exporter": "python",
   "pygments_lexer": "ipython3",
   "version": "3.10.12"
  }
 },
 "nbformat": 4,
 "nbformat_minor": 2
}
